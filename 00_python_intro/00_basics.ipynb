{
 "cells": [
  {
   "cell_type": "code",
   "execution_count": 1,
   "id": "8d538f94-9e58-4c83-bfdd-5af349df4da4",
   "metadata": {},
   "outputs": [
    {
     "name": "stdout",
     "output_type": "stream",
     "text": [
      "Hello world\n"
     ]
    }
   ],
   "source": [
    "print(\"Hello world\")"
   ]
  },
  {
   "cell_type": "code",
   "execution_count": 3,
   "id": "56555af1-fdf9-4aeb-996b-2ff7050bc1dd",
   "metadata": {},
   "outputs": [],
   "source": [
    "a = 123"
   ]
  },
  {
   "cell_type": "code",
   "execution_count": 5,
   "id": "f34a97d1-5a12-460d-bd74-270891c615d7",
   "metadata": {},
   "outputs": [],
   "source": [
    "# type casting\n",
    "a = str(a)"
   ]
  },
  {
   "cell_type": "code",
   "execution_count": 7,
   "id": "7d72dcd7-c8c9-4aee-8202-e990fc473db1",
   "metadata": {},
   "outputs": [
    {
     "data": {
      "text/plain": [
       "str"
      ]
     },
     "execution_count": 7,
     "metadata": {},
     "output_type": "execute_result"
    }
   ],
   "source": [
    "type(a)"
   ]
  },
  {
   "cell_type": "code",
   "execution_count": 9,
   "id": "e9b50d32-4835-4916-8938-ddc52f8dba20",
   "metadata": {},
   "outputs": [],
   "source": [
    "# List\n",
    "a = [1,2,3,4,5]"
   ]
  },
  {
   "cell_type": "code",
   "execution_count": 11,
   "id": "e3858381-b519-4c97-b2a8-dc7c078d9b58",
   "metadata": {},
   "outputs": [],
   "source": [
    "a.append(6)"
   ]
  },
  {
   "cell_type": "code",
   "execution_count": 13,
   "id": "fb9bfb36-893f-4108-af58-6fee816274c7",
   "metadata": {},
   "outputs": [
    {
     "data": {
      "text/plain": [
       "[1, 2, 3, 4, 5, 6]"
      ]
     },
     "execution_count": 13,
     "metadata": {},
     "output_type": "execute_result"
    }
   ],
   "source": [
    "a"
   ]
  },
  {
   "cell_type": "code",
   "execution_count": 15,
   "id": "d23f423d-b338-4661-804c-0fb7c49cae0b",
   "metadata": {},
   "outputs": [
    {
     "data": {
      "text/plain": [
       "6"
      ]
     },
     "execution_count": 15,
     "metadata": {},
     "output_type": "execute_result"
    }
   ],
   "source": [
    "a.pop()"
   ]
  },
  {
   "cell_type": "code",
   "execution_count": 17,
   "id": "312daddf-3b3e-4dcb-941a-ba6a1f0b4372",
   "metadata": {},
   "outputs": [
    {
     "data": {
      "text/plain": [
       "[1, 2, 3, 4, 5]"
      ]
     },
     "execution_count": 17,
     "metadata": {},
     "output_type": "execute_result"
    }
   ],
   "source": [
    "a"
   ]
  },
  {
   "cell_type": "code",
   "execution_count": 19,
   "id": "d3d216ae-f7fd-4380-87e5-8e46bdd09ae9",
   "metadata": {},
   "outputs": [],
   "source": [
    "a.insert(1,3)"
   ]
  },
  {
   "cell_type": "code",
   "execution_count": 21,
   "id": "f98fdede-6b31-4652-bc2d-7284169efb7a",
   "metadata": {},
   "outputs": [
    {
     "data": {
      "text/plain": [
       "[1, 3, 2, 3, 4, 5]"
      ]
     },
     "execution_count": 21,
     "metadata": {},
     "output_type": "execute_result"
    }
   ],
   "source": [
    "a"
   ]
  },
  {
   "cell_type": "code",
   "execution_count": 41,
   "id": "119fcdf2-68d2-4b4f-9b9c-54f3be540623",
   "metadata": {},
   "outputs": [],
   "source": [
    "a = [\"orange\",\"apple\", \"ball\"]"
   ]
  },
  {
   "cell_type": "code",
   "execution_count": 43,
   "id": "20bbf24b-dfe7-4adf-96b0-22bfa83c3dc4",
   "metadata": {},
   "outputs": [
    {
     "data": {
      "text/plain": [
       "['orange', 'apple', 'ball']"
      ]
     },
     "execution_count": 43,
     "metadata": {},
     "output_type": "execute_result"
    }
   ],
   "source": [
    "a"
   ]
  },
  {
   "cell_type": "code",
   "execution_count": 45,
   "id": "6c57aca9-f293-4f20-8b1c-46a06f7b7102",
   "metadata": {},
   "outputs": [],
   "source": [
    "a.sort()"
   ]
  },
  {
   "cell_type": "code",
   "execution_count": 47,
   "id": "c54ef719-8c43-49eb-a1d4-fd2be06ef8e6",
   "metadata": {},
   "outputs": [
    {
     "data": {
      "text/plain": [
       "['apple', 'ball', 'orange']"
      ]
     },
     "execution_count": 47,
     "metadata": {},
     "output_type": "execute_result"
    }
   ],
   "source": [
    "a"
   ]
  },
  {
   "cell_type": "code",
   "execution_count": 61,
   "id": "d66ce963-9d31-4e7a-ba25-e909c84f5ed6",
   "metadata": {},
   "outputs": [
    {
     "data": {
      "text/plain": [
       "['ball', 'orange']"
      ]
     },
     "execution_count": 61,
     "metadata": {},
     "output_type": "execute_result"
    }
   ],
   "source": [
    "# slicing\n",
    "a[1:3]"
   ]
  },
  {
   "cell_type": "code",
   "execution_count": 63,
   "id": "0c347d98-ed20-4246-bba3-ad64449d1381",
   "metadata": {},
   "outputs": [],
   "source": [
    "a.extend(\"Aeroplane\")"
   ]
  },
  {
   "cell_type": "code",
   "execution_count": 65,
   "id": "29bf3a90-25ff-4c90-a78f-04fbf5322376",
   "metadata": {},
   "outputs": [
    {
     "data": {
      "text/plain": [
       "['apple', 'ball', 'orange', 'A', 'e', 'r', 'o', 'p', 'l', 'a', 'n', 'e']"
      ]
     },
     "execution_count": 65,
     "metadata": {},
     "output_type": "execute_result"
    }
   ],
   "source": [
    "a"
   ]
  },
  {
   "cell_type": "code",
   "execution_count": 69,
   "id": "6e32200e-41a8-4a3b-a4b7-d898f62c9ade",
   "metadata": {},
   "outputs": [],
   "source": [
    "# tuple\n",
    "b = (1,2,3)"
   ]
  },
  {
   "cell_type": "code",
   "execution_count": 71,
   "id": "2d137adf-6549-4a34-ac75-ca3395ad7ebd",
   "metadata": {},
   "outputs": [
    {
     "data": {
      "text/plain": [
       "tuple"
      ]
     },
     "execution_count": 71,
     "metadata": {},
     "output_type": "execute_result"
    }
   ],
   "source": [
    "type(b)"
   ]
  },
  {
   "cell_type": "code",
   "execution_count": 77,
   "id": "5eb3a474-6974-4298-8cab-2421e342ecc9",
   "metadata": {},
   "outputs": [
    {
     "data": {
      "text/plain": [
       "1"
      ]
     },
     "execution_count": 77,
     "metadata": {},
     "output_type": "execute_result"
    }
   ],
   "source": [
    "b.count(1)"
   ]
  },
  {
   "cell_type": "code",
   "execution_count": 83,
   "id": "fb31bfa5-7f2c-4c77-a1cc-6c1f6f1550a6",
   "metadata": {},
   "outputs": [],
   "source": [
    "# Dictionary In Python\n",
    "dictionary = {\"Nepal\": \"Kathmandu\", \"India\": \"Delhi\", \"China\": \"Beijing\"}"
   ]
  },
  {
   "cell_type": "code",
   "execution_count": 85,
   "id": "63765450-c7d7-4c44-b6bf-37d22927b967",
   "metadata": {},
   "outputs": [
    {
     "data": {
      "text/plain": [
       "{'Nepal': 'Kathmandu', 'India': 'Delhi', 'China': 'Beijing'}"
      ]
     },
     "execution_count": 85,
     "metadata": {},
     "output_type": "execute_result"
    }
   ],
   "source": [
    "dictionary"
   ]
  },
  {
   "cell_type": "code",
   "execution_count": 89,
   "id": "9254187e-d684-4a7d-ae27-8dec29ab1bbe",
   "metadata": {},
   "outputs": [
    {
     "data": {
      "text/plain": [
       "'Delhi'"
      ]
     },
     "execution_count": 89,
     "metadata": {},
     "output_type": "execute_result"
    }
   ],
   "source": [
    "dictionary.get(\"India\")"
   ]
  },
  {
   "cell_type": "code",
   "execution_count": 93,
   "id": "fbcf7d45-14b6-4eea-8f37-810299b492ef",
   "metadata": {},
   "outputs": [
    {
     "data": {
      "text/plain": [
       "dict_keys(['Nepal', 'India', 'China'])"
      ]
     },
     "execution_count": 93,
     "metadata": {},
     "output_type": "execute_result"
    }
   ],
   "source": [
    "dictionary.keys()"
   ]
  },
  {
   "cell_type": "code",
   "execution_count": 103,
   "id": "1b29eace-6583-449d-8fd2-90df4061ca81",
   "metadata": {},
   "outputs": [
    {
     "data": {
      "text/plain": [
       "dict_values(['Kathmandu', 'Delhi', 'Beijing'])"
      ]
     },
     "execution_count": 103,
     "metadata": {},
     "output_type": "execute_result"
    }
   ],
   "source": [
    "dictionary.values()"
   ]
  },
  {
   "cell_type": "code",
   "execution_count": 135,
   "id": "68fa909f-ea31-47c1-96d1-2a11ed735413",
   "metadata": {},
   "outputs": [
    {
     "name": "stdout",
     "output_type": "stream",
     "text": [
      "Nepal = Kathmandu\n",
      "India = Kathmandu\n",
      "China = Kathmandu\n",
      "Bhutan = Kathmandu\n",
      "USA = Kathmandu\n"
     ]
    }
   ],
   "source": [
    "for key , values in dictionary.items():\n",
    "    print(f\"{key} = {value}\")\n"
   ]
  },
  {
   "cell_type": "code",
   "execution_count": 113,
   "id": "eda06b3d-619f-4a88-83e8-790e58feb225",
   "metadata": {},
   "outputs": [],
   "source": [
    "# adding key values to dictionary\n",
    "dictionary[\"Bhutan\"] = \"Thimpu\""
   ]
  },
  {
   "cell_type": "code",
   "execution_count": 115,
   "id": "9bc51ceb-a997-4ffe-8f18-b501c72d86cf",
   "metadata": {},
   "outputs": [
    {
     "data": {
      "text/plain": [
       "{'Nepal': 'Kathmandu',\n",
       " 'India': 'Delhi',\n",
       " 'China': 'Beijing',\n",
       " 'Bhutan': 'Thimpu'}"
      ]
     },
     "execution_count": 115,
     "metadata": {},
     "output_type": "execute_result"
    }
   ],
   "source": [
    "dictionary"
   ]
  },
  {
   "cell_type": "code",
   "execution_count": 119,
   "id": "cbe0669d-6149-4bf6-802d-9aaf9627435a",
   "metadata": {},
   "outputs": [],
   "source": [
    "dictionary.update({\"USA\": \"Washington\", \"Canada\":\"Ottawa\"})"
   ]
  },
  {
   "cell_type": "code",
   "execution_count": 121,
   "id": "bfc7230e-67a4-4249-8c3b-f2ec2fccb03e",
   "metadata": {},
   "outputs": [
    {
     "data": {
      "text/plain": [
       "{'Nepal': 'Kathmandu',\n",
       " 'India': 'Delhi',\n",
       " 'China': 'Beijing',\n",
       " 'Bhutan': 'Thimpu',\n",
       " 'USA': 'Washington',\n",
       " 'Canada': 'Ottawa'}"
      ]
     },
     "execution_count": 121,
     "metadata": {},
     "output_type": "execute_result"
    }
   ],
   "source": [
    "dictionary"
   ]
  },
  {
   "cell_type": "code",
   "execution_count": 123,
   "id": "6c9a83ef-2ead-47ff-882e-0e0b5170919b",
   "metadata": {},
   "outputs": [
    {
     "data": {
      "text/plain": [
       "('Canada', 'Ottawa')"
      ]
     },
     "execution_count": 123,
     "metadata": {},
     "output_type": "execute_result"
    }
   ],
   "source": [
    "# removing last item\n",
    "dictionary.popitem()"
   ]
  },
  {
   "cell_type": "code",
   "execution_count": 127,
   "id": "42fdfe65-0c09-4fea-9f4a-e933944a4bcd",
   "metadata": {},
   "outputs": [
    {
     "data": {
      "text/plain": [
       "{'Nepal': 'Kathmandu',\n",
       " 'India': 'Delhi',\n",
       " 'China': 'Beijing',\n",
       " 'Bhutan': 'Thimpu',\n",
       " 'USA': 'Washington'}"
      ]
     },
     "execution_count": 127,
     "metadata": {},
     "output_type": "execute_result"
    }
   ],
   "source": [
    "dictionary"
   ]
  },
  {
   "cell_type": "code",
   "execution_count": 137,
   "id": "f1718f00-1873-446f-bdd2-600df8b9715f",
   "metadata": {},
   "outputs": [
    {
     "data": {
      "text/plain": [
       "'Kathmandu'"
      ]
     },
     "execution_count": 137,
     "metadata": {},
     "output_type": "execute_result"
    }
   ],
   "source": [
    "dictionary.pop(\"Nepal\")"
   ]
  },
  {
   "cell_type": "markdown",
   "id": "e43e0735-0e42-4142-8f3c-62e2cc30bb99",
   "metadata": {},
   "source": [
    "## Loop In python"
   ]
  },
  {
   "cell_type": "code",
   "execution_count": 140,
   "id": "7ac9b553-8881-4ccc-9aa6-e69d52fb013f",
   "metadata": {},
   "outputs": [],
   "source": [
    "fruits = [\"apple\", \"mango\", \"carrot\"]\n"
   ]
  },
  {
   "cell_type": "code",
   "execution_count": 146,
   "id": "e70f707c-d8c1-4795-99e1-7572f6155c47",
   "metadata": {},
   "outputs": [
    {
     "name": "stdout",
     "output_type": "stream",
     "text": [
      "I don't like apple\n",
      "I don't like mango\n",
      "I don't like carrot\n"
     ]
    }
   ],
   "source": [
    "for f in fruits:\n",
    "    print(\"I don't like\", f)"
   ]
  },
  {
   "cell_type": "code",
   "execution_count": 150,
   "id": "d5ca1940-8831-4398-926c-66d48d45ca35",
   "metadata": {},
   "outputs": [
    {
     "name": "stdout",
     "output_type": "stream",
     "text": [
      "Hello\n"
     ]
    }
   ],
   "source": [
    "print(\"Hello\")"
   ]
  },
  {
   "cell_type": "code",
   "execution_count": 152,
   "id": "5267629c-ee11-4741-846f-4dd797ec86be",
   "metadata": {},
   "outputs": [
    {
     "name": "stdout",
     "output_type": "stream",
     "text": [
      "0\n",
      "10\n",
      "20\n",
      "30\n",
      "40\n",
      "50\n",
      "60\n",
      "70\n",
      "80\n",
      "90\n"
     ]
    }
   ],
   "source": [
    "for i in range(0,100, 10):\n",
    "    print(i)"
   ]
  },
  {
   "cell_type": "code",
   "execution_count": 154,
   "id": "d43a1f8d-8790-4104-b388-85b110318105",
   "metadata": {},
   "outputs": [],
   "source": []
  },
  {
   "cell_type": "code",
   "execution_count": null,
   "id": "c5dfbd79-6187-4db0-8735-4eb26295b9ae",
   "metadata": {},
   "outputs": [],
   "source": []
  },
  {
   "cell_type": "code",
   "execution_count": 161,
   "id": "580e8bf8-6d23-4b6b-85c7-28e2982d9ba4",
   "metadata": {},
   "outputs": [
    {
     "name": "stdout",
     "output_type": "stream",
     "text": [
      "0\n",
      "1\n",
      "2\n"
     ]
    }
   ],
   "source": [
    "count = 0\n",
    "while count <3:\n",
    "    print(count)\n",
    "    count +=1"
   ]
  },
  {
   "cell_type": "code",
   "execution_count": 167,
   "id": "6487ae67-380a-4b0c-87dc-7147c635b2d2",
   "metadata": {},
   "outputs": [
    {
     "name": "stdout",
     "output_type": "stream",
     "text": [
      "0\n",
      "10\n",
      "20\n",
      "30\n",
      "40\n"
     ]
    }
   ],
   "source": [
    "for i in range(0,100,10):\n",
    "    if i == 50:\n",
    "        break\n",
    "    print(i)"
   ]
  },
  {
   "cell_type": "code",
   "execution_count": 169,
   "id": "9c0833e6-8649-4c99-b8ea-18635abc8bda",
   "metadata": {},
   "outputs": [
    {
     "name": "stdout",
     "output_type": "stream",
     "text": [
      "medium\n"
     ]
    }
   ],
   "source": [
    "#  if else\n",
    "\n",
    "num = 0\n",
    "if num > 0:\n",
    "    print(\"Small\")\n",
    "elif num < 5:\n",
    "    print(\"medium\")\n",
    "else:\n",
    "    print(\"Large\")"
   ]
  },
  {
   "cell_type": "markdown",
   "id": "a4abc10c-77ec-4703-be72-ce5b2c0142d1",
   "metadata": {},
   "source": [
    "##  function In python"
   ]
  },
  {
   "cell_type": "code",
   "execution_count": 182,
   "id": "19e2ba8e-80e5-48ad-b39a-73a4661b5139",
   "metadata": {},
   "outputs": [
    {
     "name": "stdout",
     "output_type": "stream",
     "text": [
      "20\n"
     ]
    }
   ],
   "source": [
    "# lamda argument: expression\n",
    "add = lambda x, y: x * y\n",
    "print(add(4, 5))"
   ]
  },
  {
   "cell_type": "code",
   "execution_count": 186,
   "id": "7c3ffa83-63bc-4144-a7aa-2f7d0b2f68d3",
   "metadata": {},
   "outputs": [],
   "source": [
    "def sub(x,y):\n",
    "    return x - y"
   ]
  },
  {
   "cell_type": "code",
   "execution_count": 190,
   "id": "65bd17a8-8986-470c-b271-286ddeb4aa87",
   "metadata": {},
   "outputs": [
    {
     "data": {
      "text/plain": [
       "2"
      ]
     },
     "execution_count": 190,
     "metadata": {},
     "output_type": "execute_result"
    }
   ],
   "source": [
    "sub(5,3)"
   ]
  },
  {
   "cell_type": "markdown",
   "id": "560983b6-10d8-4faf-ad96-7a2a8e4af4b8",
   "metadata": {},
   "source": [
    "### List compreshension\n"
   ]
  },
  {
   "cell_type": "code",
   "execution_count": 195,
   "id": "645bafa1-4630-4626-8fd6-13b236d6a74f",
   "metadata": {},
   "outputs": [],
   "source": [
    "a = [1,2,3,4,5,6,7,8,9]"
   ]
  },
  {
   "cell_type": "code",
   "execution_count": 197,
   "id": "199dfc14-5cca-4381-a5fa-cdf1d037ee1e",
   "metadata": {},
   "outputs": [],
   "source": [
    "# square numbers greater than 4\n",
    "# list [expressioin for item in iterable if condition]\n",
    "\n",
    "squared_number = [x**2 for x in a if x > 4]"
   ]
  },
  {
   "cell_type": "code",
   "execution_count": 199,
   "id": "1acea6be-4a35-48ce-b594-3bc4fb6a2c81",
   "metadata": {},
   "outputs": [
    {
     "data": {
      "text/plain": [
       "[7, 4, 5, 10, 11]"
      ]
     },
     "execution_count": 199,
     "metadata": {},
     "output_type": "execute_result"
    }
   ],
   "source": [
    "squared_number"
   ]
  },
  {
   "cell_type": "code",
   "execution_count": 209,
   "id": "f219bc4f-c9b1-4963-bfae-479c648b79ce",
   "metadata": {},
   "outputs": [
    {
     "name": "stdout",
     "output_type": "stream",
     "text": [
      "[2, 4, 6, 8, 10]\n"
     ]
    }
   ],
   "source": [
    "# Map function \n",
    "num = [1,2,3,4,5]\n",
    "add = map(lambda x : x + x, num)\n",
    "print(list(add))"
   ]
  },
  {
   "cell_type": "code",
   "execution_count": 211,
   "id": "dd406237-ff58-48d3-bd4e-a3ec0ee6c2bf",
   "metadata": {},
   "outputs": [
    {
     "name": "stdout",
     "output_type": "stream",
     "text": [
      "20\n"
     ]
    }
   ],
   "source": [
    "greater = lambda x,y: x if x>y else y\n",
    "print(greater(10,20))"
   ]
  },
  {
   "cell_type": "code",
   "execution_count": 213,
   "id": "172859a4-27e6-420a-8844-5461c2499c5f",
   "metadata": {},
   "outputs": [],
   "source": [
    "# filter\n",
    "num = [1,2,3,4,5,6,7,8]\n",
    "filtered_data = filter(lambda x : x%2 == 0, num)"
   ]
  },
  {
   "cell_type": "code",
   "execution_count": 217,
   "id": "234a7584-9b40-4d72-bc31-534edeaa6b51",
   "metadata": {},
   "outputs": [
    {
     "name": "stdout",
     "output_type": "stream",
     "text": [
      "[2, 4, 6, 8]\n"
     ]
    }
   ],
   "source": [
    "print(list(filtered_data))"
   ]
  },
  {
   "cell_type": "code",
   "execution_count": 219,
   "id": "b4e89e7f-4509-4d54-85b1-b5a0375c1aaf",
   "metadata": {},
   "outputs": [
    {
     "data": {
      "text/plain": [
       "[1, 2, 3, 4, 5, 6, 7, 8]"
      ]
     },
     "execution_count": 219,
     "metadata": {},
     "output_type": "execute_result"
    }
   ],
   "source": [
    "# Reduce\n",
    "from functools import reduce\n",
    "num "
   ]
  }
 ],
 "metadata": {
  "kernelspec": {
   "display_name": "Python [conda env:base] *",
   "language": "python",
   "name": "conda-base-py"
  },
  "language_info": {
   "codemirror_mode": {
    "name": "ipython",
    "version": 3
   },
   "file_extension": ".py",
   "mimetype": "text/x-python",
   "name": "python",
   "nbconvert_exporter": "python",
   "pygments_lexer": "ipython3",
   "version": "3.12.7"
  }
 },
 "nbformat": 4,
 "nbformat_minor": 5
}
